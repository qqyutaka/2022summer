{
 "cells": [
  {
   "cell_type": "markdown",
   "metadata": {},
   "source": [
    "Copyright 2022 AudioT.  All rights reserved.\n",
    "This code is proprietary to AudioT, INC and provided to OMSA students under the conditions of the AudioT NDA terms. "
   ]
  },
  {
   "cell_type": "markdown",
   "metadata": {},
   "source": [
    "# Goal\n",
    "\n",
    "The purpose of this notebook is to show what log mel energy features (and their deltas and delta-\n",
    "deltas) look like, and to demonstrate how different parameter settings affect them.  Specifically,\n",
    "we'll be looking at a recording from early in a flock with some distress calling and how those calls\n",
    "show up in the features."
   ]
  },
  {
   "cell_type": "markdown",
   "metadata": {},
   "source": [
    "# Imports / environment setup\n",
    "\n",
    "**NOTE:** You will need to install the ipykernel package into your virtual environment (if you have not already done so) to be able to run the code in this notebook.  To do so, open an Anaconda prompt, activate the virtual environment you will be using, and run `conda install ipykernel`.\n"
   ]
  },
  {
   "cell_type": "code",
   "execution_count": null,
   "metadata": {},
   "outputs": [],
   "source": [
    "import sys\n",
    "from pathlib import Path\n",
    "\n",
    "import pandas as pd\n",
    "import numpy as np\n",
    "import scipy as sp\n",
    "import scipy.signal\n",
    "import matplotlib as mpl\n",
    "import matplotlib.pyplot as plt\n",
    "\n",
    "# Show matplotlib plots inline in Jupyter notebooks without having to call show()\n",
    "%matplotlib inline\n",
    "\n",
    "import IPython.display as ipd\n",
    "import librosa\n",
    "\n",
    "from audiot.audio_signal import AudioSignal\n",
    "from audiot.audio_features import AudioFeatures, calc_log_mel_energy_features"
   ]
  },
  {
   "cell_type": "markdown",
   "metadata": {},
   "source": [
    "# Parameters"
   ]
  },
  {
   "cell_type": "code",
   "execution_count": null,
   "metadata": {},
   "outputs": [],
   "source": [
    "figure_size = (30, 4)\n",
    "project_folder = Path(\"\").absolute().parents[0]\n",
    "file_path = project_folder / \"test_data\" / \"TRF0_mic14_2020-12-17_01.20.00.flac\"\n",
    "\n",
    "# Start and end time for the segment we will be looking at\n",
    "segment_of_interest_start_time = 5\n",
    "segment_of_interest_end_time = 10\n",
    "\n",
    "# Short time fourier transform (STFT) parameters -- for computing spectrograms\n",
    "fft_n_samples_per_window = 256\n",
    "fft_n_overlap = fft_n_samples_per_window / 2\n",
    "fft_nfft = 2 ** np.ceil(np.log2(fft_n_samples_per_window))"
   ]
  },
  {
   "cell_type": "markdown",
   "metadata": {},
   "source": [
    "# Compute spectrogram\n",
    "Parameters:\n",
    "- **fs:** The sampling rate for the audio signal.\n",
    "- **nperseg:** The number of samples in each window over which the Fourier transform is computed for\n",
    "    the short time Fourier transform (STFT).\n",
    "- **noverlap:** The number of samples that overlap for adjacent windows in the STFT.\n",
    "- **nfft:** Number of samples used under the hood for the fast Fourier transform (FFT).  Generally, \n",
    "    it's best to set this to the next power of two larger than or equal to the window size \n",
    "    (nperseg)."
   ]
  },
  {
   "cell_type": "code",
   "execution_count": null,
   "metadata": {},
   "outputs": [],
   "source": [
    "audio_signal = AudioSignal.from_file(file_path)\n",
    "(spectrogram_frequencies, spectrogram_times, spectrogram) = sp.signal.spectrogram(\n",
    "    audio_signal.signal[:, 0],\n",
    "    fs=audio_signal.sample_rate,\n",
    "    nperseg=fft_n_samples_per_window,\n",
    "    noverlap=fft_n_overlap,\n",
    "    nfft=fft_nfft,\n",
    ")\n",
    "spectrogram = np.log(spectrogram)\n"
   ]
  },
  {
   "cell_type": "markdown",
   "metadata": {},
   "source": [
    "# Plot spectrogram\n",
    "\n",
    "For this recording, a fan is on at the beginning of the recording and switches off around 6 seconds \n",
    "in.  Right after that fan switches off, another fan comes on between 7 and 8 seconds that is louder\n",
    "(in particular, it creates a lot more noise in the higher frequency ranges).  That second fan \n",
    "switches off around 35 seconds, and there is little to no fan noise for the rest of the file after\n",
    "that.\n",
    "\n",
    "Distress calls from one bird in particular (that was probably close to the mic) can be heard very\n",
    "clearly for about the first two thirds of the file.  There is also much quieter background chirping\n",
    "babble throughout the file from birds that are probably farther away from the mic.\n",
    "\n",
    "I first plot the spectrogram for the entire file with the spot I intend to zoom in on marked.  Then\n",
    "I plot the spectrogram zoomed in on that specific segment of interest.  The increased zoom makes it\n",
    "much easier to see the shape of the vocalizations.  The zoomed segment also includes the spot where\n",
    "the first fan switches off and the the second fan switches on."
   ]
  },
  {
   "cell_type": "code",
   "execution_count": null,
   "metadata": {},
   "outputs": [],
   "source": [
    "# Plot the spectrogram of the file\n",
    "fig = plt.figure(figsize=figure_size)\n",
    "axes = fig.add_subplot(1, 1, 1)\n",
    "axes.imshow(\n",
    "    spectrogram,\n",
    "    aspect=\"auto\",\n",
    "    origin=\"lower\",\n",
    "    extent=[\n",
    "        spectrogram_times[0],\n",
    "        spectrogram_times[-1],\n",
    "        spectrogram_frequencies[0],\n",
    "        spectrogram_frequencies[-1],\n",
    "    ],\n",
    ")\n",
    "axes.vlines([segment_of_interest_start_time, segment_of_interest_end_time], 0, 8000, color=\"r\")\n",
    "\n",
    "# Zoom in on some vocalizations before and after a fan turns on\n",
    "fig = plt.figure(figsize=figure_size)\n",
    "axes = fig.add_subplot(1, 1, 1)\n",
    "axes.imshow(\n",
    "    spectrogram,\n",
    "    aspect=\"auto\",\n",
    "    origin=\"lower\",\n",
    "    extent=[\n",
    "        spectrogram_times[0],\n",
    "        spectrogram_times[-1],\n",
    "        spectrogram_frequencies[0],\n",
    "        spectrogram_frequencies[-1],\n",
    "    ],\n",
    ")\n",
    "axes.set_xlim(segment_of_interest_start_time, segment_of_interest_end_time)\n",
    "\n",
    "# Add a control to listen to the segment we zoomed in on\n",
    "ipd.Audio(\n",
    "    audio_signal.signal[\n",
    "        int(segment_of_interest_start_time * audio_signal.sample_rate) : int(\n",
    "            segment_of_interest_end_time * audio_signal.sample_rate\n",
    "        ),\n",
    "        -1,\n",
    "    ],\n",
    "    rate=int(audio_signal.sample_rate),\n",
    ")\n"
   ]
  },
  {
   "cell_type": "markdown",
   "metadata": {},
   "source": [
    "# Log mel energy features\n",
    "\n",
    "Define a function and a wrapper for that function to make it easy to plot features zoomed in on the\n",
    "segment of interest."
   ]
  },
  {
   "cell_type": "code",
   "execution_count": null,
   "metadata": {},
   "outputs": [],
   "source": [
    "# Define a function to make plotting easier\n",
    "def plot_features_xlim(features, xlim):\n",
    "    fig = plt.figure(figsize=figure_size)\n",
    "    axes = fig.add_subplot(1, 1, 1)\n",
    "    axes_image = axes.imshow(\n",
    "        features.features.T,\n",
    "        aspect=\"auto\",\n",
    "        origin=\"lower\",\n",
    "        extent=[\n",
    "            features.frame_start_times[0],\n",
    "            features.frame_start_times[-1] + features.frame_duration,\n",
    "            0,\n",
    "            features.n_features,\n",
    "        ],\n",
    "    )\n",
    "    axes.set_xlim(xlim[0], xlim[-1])\n",
    "    return fig, axes, axes_image\n",
    "\n",
    "\n",
    "# Wrap the above function so we don't have to pass the start/end time of the segment of interest.\n",
    "plot_features = lambda features: plot_features_xlim(\n",
    "    features, (segment_of_interest_start_time, segment_of_interest_end_time)\n",
    ")"
   ]
  },
  {
   "cell_type": "markdown",
   "metadata": {},
   "source": [
    "Show what the default log mel energy features look like if you don't pass any parameters."
   ]
  },
  {
   "cell_type": "code",
   "execution_count": null,
   "metadata": {},
   "outputs": [],
   "source": [
    "log_mel_energies = calc_log_mel_energy_features(audio_signal)\n",
    "plot_features(log_mel_energies)\n",
    "plt.title(\"Log mel energies: default parameters\")\n"
   ]
  },
  {
   "cell_type": "markdown",
   "metadata": {},
   "source": [
    "Notice that although some of the distress calls have different shapes in the spectrogram we plotted\n",
    "before, you can't really distinguish the difference in shape in the log mel energy plot above.  If\n",
    "this shape is important to what you want to do, you could consider modifying the parameters to try\n",
    "to represent that better.  The three main parameters you might consider adjusting are these:\n",
    "- `n_mels` -- This represents the number of frequency bands in the mel filter bank, which equates to\n",
    "    the resolution along the frequency axis (the number of rows) in the plot above.  Increasing it will\n",
    "    give us better vertical resolution, but comes at the cost of increasing the dimensionality of your\n",
    "    features.  Adjacent frequency bands that are narrower (higher resolution) will tend to be more\n",
    "    strongly correlated with each other as well.  Defaults to 13.\n",
    "- `min_frequency` -- The triangular filters in the mel filter bank are distributed between a minimum\n",
    "    and a maximum frequency.  Only the energy / sounds that fall within this frequency range will be\n",
    "    reflected in the features, while sounds below the min frequency and above the max frequency will be\n",
    "    ignored.  This specifies the minimum frequency for that range.  Defaults to 100Hz.\n",
    "- `max_frequency` -- Same as above, but this specifies the maximum frequency for the range over\n",
    "    which the triangular mel filter bank is distributed.  Defaults to 8000Hz.\n",
    "\n",
    "To try to capture the shape of the distress calls better, we could try increasing the resolution by\n",
    "bumping up the `n_mels` parameter:"
   ]
  },
  {
   "cell_type": "code",
   "execution_count": null,
   "metadata": {},
   "outputs": [],
   "source": [
    "min_frequency = 100  # Same as default value\n",
    "max_frequency = 8000 # Same as default value\n",
    "n_mels = 40          # Increased from the default of 13\n",
    "log_mel_energies = calc_log_mel_energy_features(\n",
    "    audio_signal, min_frequency=min_frequency, max_frequency=max_frequency, n_mels=n_mels\n",
    ")\n",
    "plot_features(log_mel_energies)\n",
    "plt.title(f\"Log mel energies: {min_frequency}-{max_frequency}Hz, n_mels={n_mels}\")"
   ]
  },
  {
   "cell_type": "markdown",
   "metadata": {},
   "source": [
    "We can indeed see the shape of the individual distress calls better above, but we've also increased\n",
    "the dimensionality of our features quite a lot.  However, many of the features (e.g. the ones\n",
    "between 0 and 20 on the y-axis) are probably not very useful in detecting the distress calls because\n",
    "they fall outside the frequency range over which distress calls occur.  If we look at the original\n",
    "spectrogram, the distress calls at this age of the chickens tend to occur in the 2000-4500Hz\n",
    "frequency range.  We could potentially select out the relevant features from above (e.g. between 20\n",
    "and 35 on the y-axis), or we can just adjust the parameters to only compute features over that range\n",
    "(lowering `n_mels` as appropriate for the smaller frequency range):"
   ]
  },
  {
   "cell_type": "code",
   "execution_count": null,
   "metadata": {},
   "outputs": [],
   "source": [
    "min_frequency = 2000\n",
    "max_frequency = 4500\n",
    "n_mels = 15\n",
    "log_mel_energies = calc_log_mel_energy_features(\n",
    "    audio_signal, min_frequency=min_frequency, max_frequency=max_frequency, n_mels=n_mels\n",
    ")\n",
    "plot_features(log_mel_energies)\n",
    "plt.title(f\"Log mel energies: {min_frequency}-{max_frequency}Hz, n_mels={n_mels}\")"
   ]
  },
  {
   "cell_type": "markdown",
   "metadata": {},
   "source": [
    "The above looks pretty good for representing the different shapes of the distress calls without\n",
    "having lots of extra, unneeded feature dimensions.  Note that 2000-4500Hz seems like a good range\n",
    "for distress calls in the first week, but this range will probably need to be lowered for older\n",
    "chickens (e.g. you might need to drop it by 500Hz for week two, and maybe more later).\n",
    "\n",
    "In selecting parameter values, always keep in mind what goal you're trying to achieve.  For example,\n",
    "if you're just trying to detect distress calls and don't really care about slight differences in\n",
    "their shape, then you might consider going back to a lower `n_mels` value to lower the\n",
    "dimensionality and make all the distress calls appear more similar.  This should be fine as long as\n",
    "the lower resolution doesn't make it hard to distinguish between distress calls and other souds in\n",
    "the environment:"
   ]
  },
  {
   "cell_type": "code",
   "execution_count": null,
   "metadata": {},
   "outputs": [],
   "source": [
    "min_frequency = 2000\n",
    "max_frequency = 4500\n",
    "n_mels = 5\n",
    "log_mel_energies = calc_log_mel_energy_features(\n",
    "    audio_signal, min_frequency=min_frequency, max_frequency=max_frequency, n_mels=n_mels\n",
    ")\n",
    "plot_features(log_mel_energies)\n",
    "plt.title(f\"Log mel energies: {min_frequency}-{max_frequency}Hz, n_mels={n_mels}\")"
   ]
  },
  {
   "cell_type": "markdown",
   "metadata": {},
   "source": [
    "# Delta and delta-delta features\n",
    "\n",
    "I've previously mentioned how delta and delta-delta features are one way to incorporate more\n",
    "information about how the features are changing over time.  Here, I want to show you what those\n",
    "features look like as well as another very nice property of them."
   ]
  },
  {
   "cell_type": "code",
   "execution_count": null,
   "metadata": {},
   "outputs": [],
   "source": [
    "min_frequency = 2000\n",
    "max_frequency = 4500\n",
    "n_mels = 5\n",
    "log_mel_energies = calc_log_mel_energy_features(\n",
    "    audio_signal, min_frequency=min_frequency, max_frequency=max_frequency, n_mels=n_mels\n",
    ")\n",
    "deltas = log_mel_energies.deltas()\n",
    "delta_deltas = deltas.deltas()\n",
    "features = AudioFeatures.stack(log_mel_energies, deltas, delta_deltas)\n",
    "fig, axes, axes_image = plot_features(features)\n",
    "axes.hlines([n_mels, 2*n_mels], 0, audio_signal.duration, color='r')\n",
    "fig.colorbar(axes_image)\n",
    "plt.title(\"Log mel energies (bottom 5 rows), deltas (middle 5 rows), and delta-deltas (top 5 rows)\")"
   ]
  },
  {
   "cell_type": "markdown",
   "metadata": {},
   "source": [
    "I drew horizontal red lines to visually separate the original log mel energies (on bottom) from\n",
    "their deltas (middle) and delta-deltas (top).\n",
    "\n",
    "The deltas and delta-deltas are just estimates of the first and second time derivatives of the\n",
    "original log mel energy features.  So notice how for each chirp, the deltas first go positive and\n",
    "then go negative.  This represents the upward slope of the log mel energies as the chirp sound\n",
    "arrives and the downward slope of those energies as the chirp sound ends.  Similarly, you see a\n",
    "positive-negative-positive pattern for each chirp in the delta-deltas.  This represents that each\n",
    "log mel energy first curves up as the energy from the chirp first starts arriving in that frequency\n",
    "band, then curves downward at the peak of the chirp sound, then curves up again as it flattens back\n",
    "out after the end of the chirp.\n",
    "\n",
    "You may also notice that the log mel energies along the bottom tend to be negative when there's not\n",
    "much going on.  This does not mean that there is some kind of \"negative\" sound energy, but rather is\n",
    "just an artifact of applying a log scaling to the original energy in each frequency band.  If the\n",
    "energy in a given band ends up with a value less than 1.0, then taking the log of that energy value\n",
    "will result in a negative number.\n",
    "\n",
    "**A very nice property about the deltas and delta-deltas is their invariance to constant background\n",
    "noise (taking a derivative causes constant terms to drop out).**  Notice that the noise from the \n",
    "two fans is visible in the log mel energies at the bottom of the plot as a general increase in the\n",
    "background brightness / energy between the chirps.  The slightly darker region between about 6.5-7.0\n",
    "seconds is the gap between the first fan turning off, and the second (louder) fan turning on.  Any\n",
    "models that do classification based on these log mel energies will have to try to learn how to \n",
    "properly classify things both with and without that extra background energy from the fans.\n",
    "\n",
    "However, if you look at the deltas (middle) and delta-deltas (top), you'll notice that there is no\n",
    "visible difference between when the fans are on and off.  This is because the fan noise doesn't\n",
    "cause rapid changes in the amount of energy present in the frequency bands, and thus does not have\n",
    "much effect on the slope of how those energies are changing over time.  Thus, for tasks where the\n",
    "fan noise it not important, it may be worth considering excluding the original log mel energies and \n",
    "only useing their deltas and/or delta-deltas as the features you train and run your model on.\n",
    "\n",
    "Here's what the above delta features look like for the entire file, compared to the spectrogram:"
   ]
  },
  {
   "cell_type": "code",
   "execution_count": null,
   "metadata": {},
   "outputs": [],
   "source": [
    "min_frequency = 2000\n",
    "max_frequency = 4500\n",
    "n_mels = 5\n",
    "log_mel_energies = calc_log_mel_energy_features(\n",
    "    audio_signal, min_frequency=min_frequency, max_frequency=max_frequency, n_mels=n_mels\n",
    ")\n",
    "deltas = log_mel_energies.deltas()\n",
    "fig, axes, axes_image = plot_features_xlim(deltas, (0, 60))\n",
    "plt.title(\"Log mel energies (bottom 5 rows), deltas (middle 5 rows), and delta-deltas (top 5 rows)\")\n",
    "\n",
    "fig = plt.figure(figsize=figure_size)\n",
    "axes = fig.add_subplot(1, 1, 1)\n",
    "axes.imshow(\n",
    "    spectrogram,\n",
    "    aspect=\"auto\",\n",
    "    origin=\"lower\",\n",
    "    extent=[\n",
    "        spectrogram_times[0],\n",
    "        spectrogram_times[-1],\n",
    "        spectrogram_frequencies[0],\n",
    "        spectrogram_frequencies[-1],\n",
    "    ],\n",
    ")"
   ]
  },
  {
   "cell_type": "markdown",
   "metadata": {},
   "source": [
    "By default, the function to compute deltas looks at the current feature frame as well as the two\n",
    "frames before it and the two frames after it to estimate the derivative (the `n_samples_per_side`\n",
    "parameter defaults to 2).  This is why the effects of a single chirp look a little more spread out\n",
    "along the time axis for the deltas than it is for the original log mel energies.  Similarly, the\n",
    "effects of a single chirp are spread out even further for the delta-deltas due to applying the\n",
    "function a second time.  The `n_samples_per_side` parameter can be used to adjust how big the delta\n",
    "computation window is as appropriate for your application.  Here are examples of what it looks like\n",
    "if you decrease or increase it for this file:"
   ]
  },
  {
   "cell_type": "code",
   "execution_count": null,
   "metadata": {},
   "outputs": [],
   "source": [
    "n_samples_per_side = 1\n",
    "min_frequency = 2000\n",
    "max_frequency = 4500\n",
    "n_mels = 5\n",
    "log_mel_energies = calc_log_mel_energy_features(\n",
    "    audio_signal, min_frequency=min_frequency, max_frequency=max_frequency, n_mels=n_mels\n",
    ")\n",
    "deltas = log_mel_energies.deltas(n_samples_per_side=n_samples_per_side)\n",
    "delta_deltas = deltas.deltas(n_samples_per_side=n_samples_per_side)\n",
    "features = AudioFeatures.stack(log_mel_energies, deltas, delta_deltas)\n",
    "fig, axes, axes_image = plot_features(features)\n",
    "axes.hlines([n_mels, 2*n_mels], 0, audio_signal.duration, color='r')\n",
    "fig.colorbar(axes_image)\n",
    "plt.title(f\"n_samples_per_side={n_samples_per_side}\")\n",
    "\n",
    "n_samples_per_side = 3\n",
    "deltas = log_mel_energies.deltas(n_samples_per_side=n_samples_per_side)\n",
    "delta_deltas = deltas.deltas(n_samples_per_side=n_samples_per_side)\n",
    "features = AudioFeatures.stack(log_mel_energies, deltas, delta_deltas)\n",
    "fig, axes, axes_image = plot_features(features)\n",
    "axes.hlines([n_mels, 2*n_mels], 0, audio_signal.duration, color='r')\n",
    "fig.colorbar(axes_image)\n",
    "plt.title(f\"n_samples_per_side={n_samples_per_side}\")"
   ]
  },
  {
   "cell_type": "markdown",
   "metadata": {},
   "source": [
    "Note that the spreading effect is lessened for smaller values of `n_samples_per_side` and increased\n",
    "for larger values."
   ]
  },
  {
   "cell_type": "markdown",
   "metadata": {},
   "source": [
    "# Other features\n",
    "\n",
    "Currently, log mel energies (and variations on them, like their deltas and delta-deltas) are\n",
    "probably the most commonly used features for sound event detection.  This is likely because they're\n",
    "much like a spectrogram (that's been down-sampled to a more reasonable dimensionality) that can\n",
    "visualize the frequencies present in any sound---and modern ML techniques are able to deal with\n",
    "image-like data like that pretty well.  Other audio features have also been used in the past, and\n",
    "there are various libraries out there that can compute some of them (including librosa).\n",
    "\n",
    "Below is an example of the spectral centroid feature from librosa.  This feature effectively\n",
    "computes and average location of all the energy along the frequency axis (the y axis in these\n",
    "plots).  Note that while it looks really nice for detecting the distress calls at the very beginning\n",
    "of the file when there's low-pitched fan noise in the background, it doesn't work as well in other\n",
    "parts of the recording.  The second fan creates more energy in the higher frequencies, thus pulling\n",
    "the centroid up closer to where it tends to be for the distress calls.  Later when there is almost \n",
    "no fan noise, the energy from the background chirping becomes the driver of where the spectral \n",
    "centroid ends up being located.  So while other audio features like this can be useful in certain\n",
    "situations, it's important to consider what types of sounds could throw them off in undesirable\n",
    "ways and how likely those types of sounds are to occur in production environments."
   ]
  },
  {
   "cell_type": "code",
   "execution_count": null,
   "metadata": {},
   "outputs": [],
   "source": [
    "spectral_centroid = librosa.feature.spectral_centroid(y=audio_signal.signal[:,0], sr=audio_signal.sample_rate)\n",
    "spectral_centroid_times = librosa.times_like(spectral_centroid, sr=audio_signal.sample_rate)\n",
    "\n",
    "fig = plt.figure(figsize=figure_size)\n",
    "axes = fig.add_subplot(1, 1, 1)\n",
    "axes.imshow(\n",
    "    spectrogram,\n",
    "    aspect=\"auto\",\n",
    "    origin=\"lower\",\n",
    "    extent=[\n",
    "        spectrogram_times[0],\n",
    "        spectrogram_times[-1],\n",
    "        spectrogram_frequencies[0],\n",
    "        spectrogram_frequencies[-1],\n",
    "    ],\n",
    ")\n",
    "axes.plot(spectral_centroid_times, spectral_centroid[0,:])\n",
    "\n",
    "# Zoom in on some vocalizations before and after a fan turns on\n",
    "fig = plt.figure(figsize=figure_size)\n",
    "axes = fig.add_subplot(1, 1, 1)\n",
    "axes.imshow(\n",
    "    spectrogram,\n",
    "    aspect=\"auto\",\n",
    "    origin=\"lower\",\n",
    "    extent=[\n",
    "        spectrogram_times[0],\n",
    "        spectrogram_times[-1],\n",
    "        spectrogram_frequencies[0],\n",
    "        spectrogram_frequencies[-1],\n",
    "    ],\n",
    ")\n",
    "axes.set_xlim(segment_of_interest_start_time, segment_of_interest_end_time)\n",
    "axes.plot(spectral_centroid_times, spectral_centroid[0,:])"
   ]
  }
 ],
 "metadata": {
  "interpreter": {
   "hash": "0de4cb61a191eb5e2fe0f23f3141e923600b22c3fff1a1425efa8f73e6b2f1fd"
  },
  "kernelspec": {
   "display_name": "Python 3.8.10 64-bit ('test2': conda)",
   "name": "python3"
  },
  "language_info": {
   "codemirror_mode": {
    "name": "ipython",
    "version": 3
   },
   "file_extension": ".py",
   "mimetype": "text/x-python",
   "name": "python",
   "nbconvert_exporter": "python",
   "pygments_lexer": "ipython3",
   "version": "3.8.10"
  }
 },
 "nbformat": 4,
 "nbformat_minor": 2
}
